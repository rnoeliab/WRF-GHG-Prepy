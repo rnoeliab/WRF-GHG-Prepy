{
 "cells": [
  {
   "cell_type": "markdown",
   "metadata": {},
   "source": [
    "WRF_Chem_Preppy - Nov. 2023\n",
    "\n",
    "Preprocessor to obtain:\n",
    "- Biogenic emissions\n",
    "- Anthropogenic emissions\n",
    "- Burning emissions \n",
    "\n",
    "CO2 and CH4 over our study area."
   ]
  },
  {
   "cell_type": "code",
   "execution_count": 1,
   "metadata": {},
   "outputs": [
    {
     "ename": "ModuleNotFoundError",
     "evalue": "No module named 'pandas'",
     "output_type": "error",
     "traceback": [
      "\u001b[0;31m---------------------------------------------------------------------------\u001b[0m",
      "\u001b[0;31mModuleNotFoundError\u001b[0m                       Traceback (most recent call last)",
      "Cell \u001b[0;32mIn[1], line 3\u001b[0m\n\u001b[1;32m      1\u001b[0m \u001b[39mimport\u001b[39;00m \u001b[39mdatetime\u001b[39;00m\n\u001b[1;32m      2\u001b[0m \u001b[39mimport\u001b[39;00m \u001b[39msubprocess\u001b[39;00m\n\u001b[0;32m----> 3\u001b[0m \u001b[39mimport\u001b[39;00m \u001b[39mpandas\u001b[39;00m \u001b[39mas\u001b[39;00m \u001b[39mpd\u001b[39;00m\n\u001b[1;32m      4\u001b[0m \u001b[39m#from cdo import *\u001b[39;00m\n\u001b[1;32m      5\u001b[0m \u001b[39mimport\u001b[39;00m \u001b[39mwarnings\u001b[39;00m\n",
      "\u001b[0;31mModuleNotFoundError\u001b[0m: No module named 'pandas'"
     ]
    }
   ],
   "source": [
    "import datetime\n",
    "import subprocess\n",
    "import pandas as pd\n",
    "#from cdo import *\n",
    "import warnings"
   ]
  },
  {
   "cell_type": "markdown",
   "metadata": {},
   "source": [
    "IMPORTANT DATA:\n",
    "\n",
    "- domains --> Number of domains.\n",
    "- wrf_inp --> Path where are the \"wrfinputs\" files.\n",
    "- wrf_geo --> Path where are the \"geo_em\" files.\n",
    "- sim_time --> It is necessary to set the start and end of the processing."
   ]
  },
  {
   "cell_type": "code",
   "execution_count": 3,
   "metadata": {},
   "outputs": [],
   "source": [
    "domains        = 3                                                 # check this always\n",
    "wrf_inp        = '../input/wrfinput/wrfinput_d0'   # check this always\n",
    "wrf_geos        = '../input/domains/geo_em.d0'   # check this always\n",
    "\n",
    "sim_time       = '2022-08-01 00:00:00','2022-08-31 23:00:00'       # check this!!\n",
    "dates          = pd.to_datetime(sim_time[0]).strftime('%Y-%m-%d')\n",
    "\n",
    "pos            = '.nc'  \n",
    "projection_wrf = 'Lambert Conformal'"
   ]
  },
  {
   "cell_type": "markdown",
   "metadata": {},
   "source": [
    "1. Preparing the data for the Kaplan model (biogenic emissions) -> CH4\n",
    "\n",
    "  There are three python scripts to obtain the necessary inputs for the Kaplan model and calculate biogenic methane emissions.\n",
    "  - prep_wetland_kaplan.py\n",
    "  - prep_cpool_lpj.py\n",
    "  - prep_T_ann.py"
   ]
  },
  {
   "cell_type": "code",
   "execution_count": 3,
   "metadata": {},
   "outputs": [
    {
     "name": "stdout",
     "output_type": "stream",
     "text": [
      "===================================\n",
      "FINISHED WITH DOMAIN 1\n",
      "===================================\n",
      "===================================\n",
      "FINISHED WITH DOMAIN 2\n",
      "===================================\n",
      "===================================\n",
      "FINISHED WITH DOMAIN 3\n",
      "===================================\n",
      "===================================\n",
      "FINISHED WITH DOMAIN 4\n",
      "===================================\n"
     ]
    }
   ],
   "source": [
    "#These ones are updated 2023-11 ---> Noelia Rojas B.\n",
    "for i,j in enumerate(range(domains),start=1):\n",
    "    dom              = i\n",
    "    wrf_inp_p        = wrf_inp  + str(i)\n",
    "    wrf_geo_p        = wrf_geos  + str(i) + pos\n",
    "\n",
    "    # ================= Kaplan inventory\n",
    "    wet_var          = 'wetland'\n",
    "    path_wet         = '../../../DATA/sources/VPRM/ch4_bio_input/global/global_wetland_kaplan.nc'\n",
    "    wet_out          = '../../../DATA/sources/VPRM/ch4_bio_input/regrid/'\n",
    "    lat              = 'lat'\n",
    "    lon              = 'lon'\n",
    "    regrid_method    = 'conservative'\n",
    "    source           = 'Kaplan'\n",
    "    \n",
    "    #print(datetime.datetime.now())\n",
    "    #%run -i prep_wetland_kaplan.py\n",
    "    #print(datetime.datetime.now())\n",
    "    \n",
    "    cpool_var        = 'cpool_fast'\n",
    "    cpool_path       = '../../../DATA/sources/VPRM/ch4_bio_input/global/lpj_cpool_2000.nc'\n",
    "    cpool_out        = '../../../DATA/sources/VPRM/ch4_bio_input/regrid/'\n",
    "    cmmd             = 'cdo remapbil,'+ wrf_inp + ' -fillmiss2 ' + cpool_path + ' intermediate_cpool_regrid.nc'\n",
    "    \n",
    "    #print(datetime.datetime.now())\n",
    "    #subprocess.call(cmmd,shell=True)\n",
    "    #%run -i prep_cpool_lpj.py\n",
    "    #print(datetime.datetime.now()) \n",
    "       \n",
    "    # Remember to check the year. The netcdf files for temp should be a Monthly mean. shape = (12).\n",
    "    ### If changing year, remeber to change T_ANN year down below\n",
    "    t_ann_path       = '../../../DATA/sources/VPRM/ch4_bio_input/global/ERA5_monthly_surface_temperatures_2022.nc'\n",
    "    t_var            = 'stl1' # remember to include the other options\n",
    "    lat              = 'latitude'\n",
    "    lon              = 'longitude'\n",
    "    t_ann_out        = '../../../DATA/sources/VPRM/ch4_bio_input/regrid/'\n",
    "    regrid_method    = 'conservative'\n",
    "    \n",
    "    #print(datetime.datetime.now())\n",
    "    #subprocess.call(cmmd,shell=True)\n",
    "    #%run -i prep_T_ann.py\n",
    "    #print(datetime.datetime.now())\n",
    "    \n",
    "    #!rm intermediate_cpool_regrid.nc\n",
    "    \n",
    "    print('===================================')\n",
    "    print('FINISHED WITH DOMAIN %s'%(str(dom)))\n",
    "    print('===================================')    \n",
    "    "
   ]
  },
  {
   "cell_type": "markdown",
   "metadata": {},
   "source": [
    "Juntando las emisiones biogenicas del CO2 y CH4 en un archivo VPRM_input"
   ]
  },
  {
   "cell_type": "code",
   "execution_count": 6,
   "metadata": {},
   "outputs": [
    {
     "name": "stdout",
     "output_type": "stream",
     "text": [
      "generating netcdf file..\n",
      "DONE GENERATING THE VPRM INPUT\n",
      "===================================\n",
      "FINISHED WITH DOMAIN 1\n",
      "===================================\n",
      "generating netcdf file..\n",
      "DONE GENERATING THE VPRM INPUT\n",
      "===================================\n",
      "FINISHED WITH DOMAIN 2\n",
      "===================================\n",
      "generating netcdf file..\n",
      "DONE GENERATING THE VPRM INPUT\n",
      "===================================\n",
      "FINISHED WITH DOMAIN 3\n",
      "===================================\n",
      "generating netcdf file..\n",
      "DONE GENERATING THE VPRM INPUT\n",
      "===================================\n",
      "FINISHED WITH DOMAIN 4\n",
      "===================================\n"
     ]
    }
   ],
   "source": [
    "for i,j in enumerate(range(domains),start=1):\n",
    "    \n",
    "    dom              = i\n",
    "    wrf_inp_p        = wrf_inp  + str(i)\n",
    "    wrf_geo_p        = wrf_geos  + str(i) + pos\n",
    "\n",
    "    ## join CH4 and CO2 biogenic dataset\n",
    "    \n",
    "    ######### READ CH4 BIO -- Kaplan inventory\n",
    "    cpoolp  = cpool_out +'CPOOL_d0%s_%s.nc'%(dom,pd.to_datetime(dates).year)\n",
    "    tannp   = t_ann_out + 'T_ANN_d0%s_%s.nc'%(dom,pd.to_datetime(dates).year)\n",
    "    wetmapp = wet_out + 'WETMAP_d0%s_%s.nc'%(dom,pd.to_datetime(dates).year)\n",
    "\n",
    "    ######### READ CO2 BIO ---- prec vprm    \n",
    "    vprm_inp  = '../../../DATA/sources/VPRM/co2_bio_input/regrid/'\n",
    "    evi_minp  = vprm_inp + 'd0%s/VPRM_input_EVI_MIN_%s.nc'%(dom,pd.to_datetime(dates).year)\n",
    "    evi_maxp  = vprm_inp + 'd0%s/VPRM_input_EVI_MAX_%s.nc'%(dom,pd.to_datetime(dates).year)\n",
    "    evip      = vprm_inp + 'd0%s/VPRM_input_EVI_%s.nc'%(dom,pd.to_datetime(dates).year)\n",
    "    lswi_minp = vprm_inp + 'd0%s/VPRM_input_LSWI_MIN_%s.nc'%(dom,pd.to_datetime(dates).year)\n",
    "    lswi_maxp = vprm_inp + 'd0%s/VPRM_input_LSWI_MAX_%s.nc'%(dom,pd.to_datetime(dates).year)\n",
    "    lswip     = vprm_inp + 'd0%s/VPRM_input_LSWI_%s.nc'%(dom,pd.to_datetime(dates).year)\n",
    "    vegfrap   = vprm_inp + 'd0%s/VPRM_input_VEG_FRA_%s.nc'%(dom,pd.to_datetime(dates).year)\n",
    "        \n",
    "    file_out = '../../../DATA/sources/VPRM/vprm_input/'\n",
    "    #print(datetime.now())\n",
    "    %run -i Join_vprm_input.py\n",
    "    #print(datetime.now())   \n",
    "    \n",
    "    print('===================================')\n",
    "    print('FINISHED WITH DOMAIN %s'%(str(dom)))\n",
    "    print('===================================')    "
   ]
  },
  {
   "cell_type": "markdown",
   "metadata": {},
   "source": [
    "Preparando los datos del GFAS para los cuatro dominios"
   ]
  },
  {
   "cell_type": "code",
   "execution_count": null,
   "metadata": {},
   "outputs": [],
   "source": [
    "for i,j in enumerate(range(domains),start=1):\n",
    "    \n",
    "    dom              = i\n",
    "    wrf_inp          = w + pre  + str(i)\n",
    "    wrf_geo_p        = w_geo + pre2 + str(i) + pos\n",
    "\n",
    "    # Remember to check the year. The netcdf files for temp should be a.....\n",
    "    ### If changing year, remeber to change GFAS for each time \n",
    "    gfas_path       = '../../../DATA/sources/FIRES/global/2208_ghg.nc'\n",
    "    var             = ['co2fire','ch4fire','cofire'] # remember to include the other options\n",
    "    mvar             = [28.01,44.01,16.043]\n",
    "    lat             = 'latitude'\n",
    "    lon             = 'longitude'\n",
    "    gfas_out        = '../../../DATA/sources/FIRES/regrid/'\n",
    "    regrid_method   = 'conservative'\n",
    "    \n",
    "    print(datetime.datetime.now())\n",
    "    %run -i pre_gfas.py\n",
    "    print(datetime.datetime.now())\n",
    "    \n",
    "    #!rm intermediate_cpool_regrid.nc\n",
    "    \n",
    "    print('===================================')\n",
    "    print('FINISHED WITH DOMAIN %s'%(str(dom)))\n",
    "    print('===================================')    "
   ]
  },
  {
   "cell_type": "markdown",
   "metadata": {},
   "source": [
    "Preparando los datos del EDGAR y WETCHART para los cuatro dominios"
   ]
  },
  {
   "cell_type": "code",
   "execution_count": null,
   "metadata": {},
   "outputs": [],
   "source": [
    "for i,j in enumerate(range(domains),start=3):\n",
    "    dom              = i\n",
    "    wrf_inp          = w + pre  + str(i)\n",
    "    wrf_geo_p        = w_geo + pre2 + str(i) + pos\n",
    "\n",
    "    # Remember to check the year. The netcdf files for temp should be a.....\n",
    "    ### If changing year, remeber to change GFAS for each time \n",
    "    edgar_path      = '../../../DATA/sources/ANTHRO/global/EDGAR/'\n",
    "    wchts_path      = '../../../DATA/sources/ANTHRO/global/wetchart/'\n",
    "    var             = ['CO','CO2','CH4'] # remember to include the other options\n",
    "    mvar            = [28.01,44.01,16.043]\n",
    "    num_model       = ['2913','2923','2933','2914','2924','2934']    #### for wetcharts data\n",
    "    month           = int(pd.to_datetime(sim_time[0]).strftime('%m'))\n",
    "    lat             = 'lat'\n",
    "    lon             = 'lon'\n",
    "    edgar_out       = '../../../DATA/sources/ANTHRO/regrid/'\n",
    "    regrid_method   = 'conservative'\n",
    "    \n",
    "    print(datetime.datetime.now())\n",
    "    %run -i prep_edgar.py\n",
    "    print(datetime.datetime.now())\n",
    "    \n",
    "    #!rm intermediate_cpool_regrid.nc\n",
    "    \n",
    "    print('===================================')\n",
    "    print('FINISHED WITH DOMAIN %s'%(str(dom)))\n",
    "    print('===================================')  "
   ]
  },
  {
   "cell_type": "code",
   "execution_count": null,
   "metadata": {},
   "outputs": [],
   "source": [
    "for i,j in enumerate(range(domains),start=3):\n",
    "    dom              = i\n",
    "    wrf_inp          = w + pre  + str(i)\n",
    "    wrf_geo_p        = w_geo + pre2 + str(i) + pos"
   ]
  },
  {
   "cell_type": "code",
   "execution_count": null,
   "metadata": {},
   "outputs": [],
   "source": []
  }
 ],
 "metadata": {
  "kernelspec": {
   "display_name": "xesmf",
   "language": "python",
   "name": "python3"
  },
  "language_info": {
   "codemirror_mode": {
    "name": "ipython",
    "version": 3
   },
   "file_extension": ".py",
   "mimetype": "text/x-python",
   "name": "python",
   "nbconvert_exporter": "python",
   "pygments_lexer": "ipython3",
   "version": "3.9.13"
  },
  "orig_nbformat": 4
 },
 "nbformat": 4,
 "nbformat_minor": 2
}
