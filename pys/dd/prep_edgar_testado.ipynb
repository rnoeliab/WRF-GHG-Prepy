{
 "cells": [
  {
   "cell_type": "code",
   "execution_count": 2,
   "metadata": {},
   "outputs": [],
   "source": [
    "import numpy as np\n",
    "import netCDF4 as cdf\n",
    "import pandas as pd\n",
    "import xesmf as xe\n",
    "import xarray as xr\n",
    "import warnings"
   ]
  },
  {
   "cell_type": "code",
   "execution_count": 3,
   "metadata": {},
   "outputs": [],
   "source": [
    "domains        = 1                                                                    # check this always\n",
    "w              = '../../../DATA/WRF/wrfinput/'   # check this always\n",
    "w_geo          = '../../../DATA/WRF/domains/4_domains/'# check this always\n",
    "pre            = 'wrfinput_d0'\n",
    "pre2           = 'geo_em.d0'\n",
    "sim_time       = '2022-08-01 00:00:00','2022-08-31 23:00:00' \n",
    "dates          = pd.to_datetime(sim_time[0]).strftime('%Y-%m-%d')\n",
    "pos            = '.nc'  \n",
    "projection_wrf = 'Lambert Conformal'"
   ]
  },
  {
   "cell_type": "code",
   "execution_count": 4,
   "metadata": {},
   "outputs": [],
   "source": [
    "dom              = domains\n",
    "wrf_inp          = w + pre  + str(domains)\n",
    "wrf_geo_p        = w_geo + pre2 + str(domains) + pos"
   ]
  },
  {
   "cell_type": "code",
   "execution_count": 5,
   "metadata": {},
   "outputs": [],
   "source": [
    "#### \n",
    "edgar_path       = '../../../DATA/sources/ANTHRO/global/'\n",
    "var              = ['CO','CO2','CH4'] # remember to include the other options\n",
    "mvar             = [28.01,44.01,16.043]\n",
    "lat              =  'lat'\n",
    "lon              = 'lon'\n",
    "edgar_out        = '../../../DATA/sources/ANTHRO/regrid/'\n",
    "regrid_method    = 'conservative'"
   ]
  },
  {
   "cell_type": "code",
   "execution_count": 6,
   "metadata": {},
   "outputs": [
    {
     "name": "stdout",
     "output_type": "stream",
     "text": [
      "STARTING WITH GHG fire emissions REGRID-PREPROCESSING\n"
     ]
    }
   ],
   "source": [
    "print('STARTING WITH GHG fire emissions REGRID-PREPROCESSING')\n",
    "wrf_i          = cdf.Dataset(wrf_inp)\n",
    "wrf_geo        = cdf.Dataset(wrf_geo_p)\n",
    "wrf_lat        = np.array(wrf_geo.variables['XLAT_M'])\n",
    "wrf_lon        = np.array(wrf_geo.variables['XLONG_M'])\n",
    "wrf_lmask      = np.array(wrf_geo.variables['LANDMASK'])\n",
    "wrf_lat_c      = np.array(wrf_geo.variables['XLAT_C'])\n",
    "wrf_lon_c      = np.array(wrf_geo.variables['XLONG_C'])"
   ]
  },
  {
   "cell_type": "code",
   "execution_count": 10,
   "metadata": {},
   "outputs": [],
   "source": [
    "edgar_data = {}; edgar_units = {}\n",
    "for v,pol in enumerate(var):\n",
    "    edgar_open            = xr.open_dataset(edgar_path+'v6.0_'+var[v]+'_TOTAL_NO_FIRES_2018.0.1x0.1.nc')\n",
    "    edgar_open['lon_adj'] = xr.where(edgar_open[lon]> 180, edgar_open[lon] - 360, edgar_open[lon])\n",
    "    edgar_open            = edgar_open.sortby(edgar_open[\"lon_adj\"])\n",
    "    \n",
    "    edgar_data[str(pol)]  = np.array(edgar_open['emis_tot'][7,:,:])*36*(10**11)/float(mvar[v]) \n",
    "    edgar_units[str(pol)] = edgar_open['emis_tot'].units\n",
    "    \n",
    "    lons_edgar     = np.array(edgar_open['lon_adj'])\n",
    "    lats_edgar     = np.array(edgar_open[lat])"
   ]
  },
  {
   "cell_type": "code",
   "execution_count": 12,
   "metadata": {},
   "outputs": [],
   "source": [
    "### aqui las longitudes ya son un vector.\n",
    "lon_res        = abs(lons_edgar[1]-lons_edgar[0])\n",
    "lat_res        = abs(lats_edgar[1]-lats_edgar[0])\n",
    "\n",
    "srclon_cen     = lons_edgar\n",
    "srclat_cen     = lats_edgar\n",
    "\n",
    "#### estas lineas fueron actualizadas.\n",
    "srclat_cor  = np.linspace(lats_edgar[0]+lat_res/2,lats_edgar[-1]-lat_res/2,lats_edgar.shape[0]+1)\n",
    "srclon_cor  = np.arange(lons_edgar[0]-lon_res/2,lons_edgar[-1]+lon_res,lon_res)\n",
    "\n",
    "grid_in   = {'lon':srclon_cen,'lat':srclat_cen, 'lon_b':srclon_cor,'lat_b':srclat_cor}\n",
    "grid_out  = {'lon':wrf_lon[0],'lat':wrf_lat[0], 'lon_b':wrf_lon_c[0],'lat_b':wrf_lat_c[0]}"
   ]
  },
  {
   "cell_type": "code",
   "execution_count": 13,
   "metadata": {},
   "outputs": [
    {
     "name": "stdout",
     "output_type": "stream",
     "text": [
      "xESMF Regridder \n",
      "Regridding algorithm:       conservative \n",
      "Weight filename:            conservative_1800x3600_124x204.nc \n",
      "Reuse pre-computed weights? False \n",
      "Input grid shape:           (1800, 3600) \n",
      "Output grid shape:          (124, 204) \n",
      "Periodic in longitude?      False\n"
     ]
    },
    {
     "name": "stderr",
     "output_type": "stream",
     "text": [
      "/home/nonna/anaconda3/envs/xesmf/lib/python3.9/site-packages/xesmf/smm.py:130: UserWarning: Input array is not C_CONTIGUOUS. Will affect performance.\n",
      "  warnings.warn('Input array is not C_CONTIGUOUS. ' 'Will affect performance.')\n",
      "/home/nonna/anaconda3/envs/xesmf/lib/python3.9/site-packages/xesmf/smm.py:130: UserWarning: Input array is not C_CONTIGUOUS. Will affect performance.\n",
      "  warnings.warn('Input array is not C_CONTIGUOUS. ' 'Will affect performance.')\n"
     ]
    }
   ],
   "source": [
    "regridder = xe.Regridder(grid_in,grid_out,regrid_method,reuse_weights=False)\n",
    "print(regridder)\n",
    "edgar_data_re = {};\n",
    "for v,pol in enumerate(var):\n",
    "    edgar_data_re[str(pol)]  = regridder(edgar_data[str(pol)])  "
   ]
  },
  {
   "cell_type": "code",
   "execution_count": 14,
   "metadata": {},
   "outputs": [
    {
     "name": "stdout",
     "output_type": "stream",
     "text": [
      "generating netcdf file..\n"
     ]
    }
   ],
   "source": [
    "print('generating netcdf file..')\n",
    "wrf_input     = wrf_geo\n",
    "dim_emi_items = list(wrf_input.dimensions.items())\n",
    "domain        = dom\n",
    "projection    = projection_wrf\n",
    "\n",
    "bytime        = pd.date_range(\"2022-08-01\", freq=\"D\", periods=31)\n",
    "nhoras        = [\"{:02d}\".format(n) for n in np.arange(0,24,1)]"
   ]
  },
  {
   "cell_type": "code",
   "execution_count": 16,
   "metadata": {},
   "outputs": [
    {
     "name": "stdout",
     "output_type": "stream",
     "text": [
      "DONE WITH GHG fire emissions REGRID-PREPROCESSING\n"
     ]
    }
   ],
   "source": [
    "\n",
    "#for q,m in enumerate(bytime):\n",
    "#    for d in nhoras:\n",
    "q = 10\n",
    "m = bytime[10]\n",
    "d = nhoras[10]\n",
    "date          = pd.to_datetime(m).strftime('%Y-%m-%d')+ '_'+d+':00:00'\n",
    "filename      = edgar_out + 'wrfchemi_d0%s_%s.nc'%(dom,str(date).replace(\":\",\"_\"))\n",
    "dataset       = cdf.Dataset(filename,'w',format='NETCDF4_CLASSIC')\n",
    "\n",
    "# Dimensions\n",
    "lon           = dataset.createDimension(dim_emi_items[2][0], wrf_input.getncattr('WEST-EAST_PATCH_END_UNSTAG'))\n",
    "lat           = dataset.createDimension(dim_emi_items[3][0], wrf_input.getncattr('SOUTH-NORTH_PATCH_END_UNSTAG'))\n",
    "levels        = dataset.createDimension('emissions_zdim_stag',10)\n",
    "len           = dataset.createDimension('DateStrLen',19)\n",
    "time          = dataset.createDimension('Time', 1)\n",
    "\n",
    "\n",
    "# Variables\n",
    "time          = dataset.createVariable('Times', 'S1',('Time','DateStrLen'))\n",
    "lat           = dataset.createVariable('XLAT',  'f4', (dim_emi_items[3][0],dim_emi_items[2][0]))\n",
    "lon           = dataset.createVariable('XLONG', 'f4', (dim_emi_items[3][0],dim_emi_items[2][0]))\n",
    "\n",
    "co2f          = dataset.createVariable('E_CO2', 'f4', ('Time','emissions_zdim_stag',dim_emi_items[3][0],dim_emi_items[2][0]))\n",
    "cof           = dataset.createVariable('E_CO',  'f4', ('Time','emissions_zdim_stag',dim_emi_items[3][0],dim_emi_items[2][0]))\n",
    "#co2f          = dataset.createVariable('E_CO2', 'f4', ('Time','emissions_zdim',dim_emi_items[3][0],dim_emi_items[2][0]))\n",
    "ch4f          = dataset.createVariable('E_CH4', 'f4', ('Time','emissions_zdim_stag',dim_emi_items[3][0],dim_emi_items[2][0]))\n",
    "# data\n",
    "time[:,:]     = np.array([\" \".join(date).split()], dtype = 'S19')\n",
    "lat[:,:]      = np.array(wrf_input.variables['XLAT_M'][0])\n",
    "lon[:,:]      = np.array(wrf_input.variables['XLONG_M'][0])\n",
    "ch4f[0,0,:,:] = edgar_data_re[\"CH4\"]\n",
    "co2f[0,0,:,:] = edgar_data_re[\"CO2\"]\n",
    "cof[0,0,:,:]  = edgar_data_re[\"CO\"]\n",
    "for q in range(1,10):\n",
    "    #print(q)\n",
    "    ch4f[0,q,:,:] = np.zeros(edgar_data_re[\"CH4\"].shape)\n",
    "    ch4f[0,q,:,:] = np.zeros(edgar_data_re[\"CH4\"].shape)\n",
    "    ch4f[0,q,:,:] = np.zeros(edgar_data_re[\"CH4\"].shape)\n",
    "\n",
    "# Attributes global\n",
    "for i,j in enumerate(wrf_i.ncattrs()):\n",
    "    if i == 0: continue\n",
    "    dataset.setncattr(j,wrf_i.getncattr(j))\n",
    "\n",
    "# Attributes variables\n",
    "lon.MemoryOrder  = 'XY'\n",
    "lon.description  = 'LONGITUDE, WEST IS NEGATIVE'\n",
    "lon.untis        = 'degree east'\n",
    "lon.long_name    = \" \"\n",
    "lon.FieldType    = 104\n",
    "\n",
    "lat.MemoryOrder  = 'XY'\n",
    "lat.description  = 'LATITUDE, SOUTH IS NEGATIVE'\n",
    "lat.units        = 'degree north'\n",
    "lat.stagger      = \"\"\n",
    "lat.FieldType    = 104\n",
    "\n",
    "co2f.MemoryOrder  = 'XYZ'\n",
    "co2f.description  = 'EMISSIONS'\n",
    "co2f.units        = 'mol km^-2 hr^-1'\n",
    "co2f.stagger       = \"Z\"\n",
    "co2f.FieldType    = 104\n",
    "\n",
    "\n",
    "ch4f.MemoryOrder  = 'XYZ'\n",
    "ch4f.description  = 'EMISSIONS'\n",
    "ch4f.units        = 'mol km^-2 hr^-1'\n",
    "ch4f.stagger       = \"Z\"\n",
    "ch4f.FieldType    = 104\n",
    "\n",
    "\n",
    "cof.MemoryOrder  = 'XYZ'\n",
    "cof.description  = 'EMISSIONS'\n",
    "cof.units        = 'mol km^-2 hr^-1'\n",
    "cof.stagger       = \"Z\"\n",
    "cof.FieldType    = 104\n",
    "\n",
    "#co2f.MemoryOrder  = 'XYZ'\n",
    "#co2f.description  = 'EMISSIONS'\n",
    "#co2f.units        = 'mol $km^-2 hr^⁻1$'\n",
    "#co2f.stagger       = \"Z\"\n",
    "#co2f.FieldType    = 104\n",
    "\n",
    "dataset.close()\n",
    "\n",
    "print('DONE WITH GHG fire emissions REGRID-PREPROCESSING')"
   ]
  },
  {
   "cell_type": "code",
   "execution_count": null,
   "metadata": {},
   "outputs": [],
   "source": []
  }
 ],
 "metadata": {
  "kernelspec": {
   "display_name": "xesmf",
   "language": "python",
   "name": "python3"
  },
  "language_info": {
   "codemirror_mode": {
    "name": "ipython",
    "version": 3
   },
   "file_extension": ".py",
   "mimetype": "text/x-python",
   "name": "python",
   "nbconvert_exporter": "python",
   "pygments_lexer": "ipython3",
   "version": "3.9.13"
  },
  "orig_nbformat": 4
 },
 "nbformat": 4,
 "nbformat_minor": 2
}
