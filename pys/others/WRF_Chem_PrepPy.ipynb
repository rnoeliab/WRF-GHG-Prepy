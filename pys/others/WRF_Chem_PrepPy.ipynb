{
 "cells": [
  {
   "cell_type": "markdown",
   "metadata": {},
   "source": [
    "WRF-VPRM-Preppy \n",
    "\n",
    "1. Create by Santiago Botia ()\n",
    "2. Modified and updated by Noelia Rojas B. (rnoeliab@gmail.com)\n",
    "3. Last updated in Dec 2023.\n",
    "\n",
    "Preprocessor to obtain (CH4, CO2 and CO):\n",
    "- Biogenic emissions\n",
    "- Anthropogenic emissions\n",
    "- Burning emissions \n",
    "\n",
    "This preppy needs the wrfinput_d0#.nc and geo_em.d0#.nc files."
   ]
  },
  {
   "cell_type": "code",
   "execution_count": 28,
   "metadata": {},
   "outputs": [],
   "source": [
    "import datetime\n",
    "import subprocess\n",
    "import pandas as pd\n",
    "import os\n",
    "#from cdo import *\n",
    "import warnings"
   ]
  },
  {
   "cell_type": "code",
   "execution_count": 23,
   "metadata": {},
   "outputs": [],
   "source": [
    "def path(out_diretory):\n",
    "    if not os.path.exists(out_diretory):\n",
    "        os.makedirs(out_diretory)\n",
    "    return out_diretory  "
   ]
  },
  {
   "cell_type": "markdown",
   "metadata": {},
   "source": [
    "IMPORTANT DATA:\n",
    "\n",
    "- domains --> Number of domains.\n",
    "- wrf_inp --> Path where are the \"wrfinputs\" files.\n",
    "- wrf_geo --> Path where are the \"geo_em\" files.\n",
    "- sim_time --> It is necessary to set the start and end of the processing."
   ]
  },
  {
   "cell_type": "code",
   "execution_count": 16,
   "metadata": {},
   "outputs": [],
   "source": [
    "domains        = 4                                                 # check this always\n",
    "wrf_inps        = '../input/wrf_inputs/'                            # check this always\n",
    "\n",
    "sim_time       = '2022-08-01 00:00:00','2022-08-31 23:00:00'       # check this!!\n",
    "dates          = pd.to_datetime(sim_time[0]).strftime('%Y-%m-%d')\n",
    "\n",
    "pos            = '.nc'  \n",
    "projection_wrf = 'Lambert Conformal'"
   ]
  },
  {
   "cell_type": "markdown",
   "metadata": {},
   "source": [
    "1. Preparing the data for the Kaplan model (biogenic emissions) -> CH4\n",
    "\n",
    "  There are three python scripts to obtain the necessary inputs for the Kaplan model and calculate biogenic methane emissions.\n",
    "  - prep_wetland_kaplan.py\n",
    "  - prep_cpool_lpj.py\n",
    "  - prep_T_ann.py"
   ]
  },
  {
   "cell_type": "code",
   "execution_count": null,
   "metadata": {},
   "outputs": [],
   "source": [
    "#These ones are updated 2023-12 ---> Noelia Rojas B.\n",
    "\n",
    "ch4_bio_p  = '../input/bio_ghg/ch4_bio/'\n",
    "output_reg = path('../output/kaplan_model/')\n",
    "\n",
    "for i,j in enumerate(range(domains),start=1):\n",
    "    dom              = i\n",
    "    wrf_inp_p        = wrf_inps + 'wrfinput_d0'  + str(i)\n",
    "    wrf_geo_p        = wrf_inps + 'geo_em.d0' + str(i) + pos\n",
    "    \n",
    "    # ================= Kaplan inventory\n",
    "    wet_var          = 'wetland'\n",
    "    path_wet         = 'global_wetland_kaplan.nc'\n",
    "    lat              = 'lat'\n",
    "    lon              = 'lon'\n",
    "    regrid_method    = 'conservative'\n",
    "    source           = 'Kaplan'\n",
    "    \n",
    "    print(datetime.datetime.now())\n",
    "    %run -i prep_wetland_kaplan.py\n",
    "    print(datetime.datetime.now())\n",
    "\n",
    "    cpool_var        = 'cpool_fast'\n",
    "    cpool_path       = ch4_bio_p +'lpj_cpool_2000.nc'\n",
    "    cmmd             = 'cdo remapbil,'+ wrf_inp_p + ' -fillmiss2 ' + cpool_path + ' intermediate_cpool_regrid.nc'\n",
    "    \n",
    "    print(datetime.datetime.now())\n",
    "    subprocess.call(cmmd,shell=True)\n",
    "    %run -i prep_cpool_lpj.py\n",
    "    !rm intermediate_cpool_regrid.nc\n",
    "    print(datetime.datetime.now()) \n",
    "\n",
    "    # Remember to check the year. The netcdf files for temp should be a Monthly mean. shape = (12).\n",
    "    ### If changing year, remeber to change T_ANN year down below\n",
    "    t_ann_path       = 'ERA_monthly_soiltemperature_2022.nc'\n",
    "    t_var            = 'stl1' # remember to include the other options\n",
    "    lat              = 'latitude'\n",
    "    lon              = 'longitude'\n",
    "    regrid_method    = 'conservative'\n",
    "    \n",
    "    print(datetime.datetime.now())\n",
    "    %run -i prep_T_ann.py\n",
    "    print(datetime.datetime.now())\n",
    "    \n",
    "    print('===================================')\n",
    "    print('FINISHED WITH DOMAIN %s'%(str(dom)))\n",
    "    print('===================================')   \n",
    "       "
   ]
  },
  {
   "cell_type": "markdown",
   "metadata": {},
   "source": [
    "Join CH4 and CO2 biogenic dataset"
   ]
  },
  {
   "cell_type": "code",
   "execution_count": 41,
   "metadata": {},
   "outputs": [
    {
     "name": "stdout",
     "output_type": "stream",
     "text": [
      "2023-12-14 15:54:28.399561\n",
      "generating netcdf file..\n",
      "DONE GENERATING THE VPRM INPUT\n",
      "2023-12-14 15:54:35.332047\n",
      "===================================\n",
      "FINISHED WITH DOMAIN 1\n",
      "===================================\n",
      "2023-12-14 15:54:35.333845\n",
      "generating netcdf file..\n",
      "DONE GENERATING THE VPRM INPUT\n",
      "2023-12-14 15:54:36.505681\n",
      "===================================\n",
      "FINISHED WITH DOMAIN 2\n",
      "===================================\n",
      "2023-12-14 15:54:36.507752\n",
      "generating netcdf file..\n",
      "DONE GENERATING THE VPRM INPUT\n",
      "2023-12-14 15:54:37.495652\n",
      "===================================\n",
      "FINISHED WITH DOMAIN 3\n",
      "===================================\n",
      "2023-12-14 15:54:37.497550\n",
      "generating netcdf file..\n",
      "DONE GENERATING THE VPRM INPUT\n",
      "2023-12-14 15:54:38.316734\n",
      "===================================\n",
      "FINISHED WITH DOMAIN 4\n",
      "===================================\n"
     ]
    }
   ],
   "source": [
    "for i,j in enumerate(range(domains),start=1):\n",
    "    dom              = i\n",
    "    wrf_inp_p        = wrf_inps + 'wrfinput_d0'  + str(i)\n",
    "    \n",
    "    ######### Paths of the CH4 BIO files -- Kaplan inventory\n",
    "    cpoolp  = output_reg +'CPOOL_d0%s_%s.nc'%(dom,pd.to_datetime(dates).year)\n",
    "    tannp   = output_reg + 'T_ANN_d0%s_%s.nc'%(dom,pd.to_datetime(dates).year)\n",
    "    wetmapp = output_reg + 'WETMAP_d0%s_%s.nc'%(dom,pd.to_datetime(dates).year)\n",
    "\n",
    "    ######### Paths of the CO2 BIO files ---- prec vprm    \n",
    "    vprm_inp  = '../input/bio_ghg/co2_bio/regrid/'\n",
    "    evi_minp  = vprm_inp + 'd0%s/VPRM_input_EVI_MIN_%s.nc'%(dom,pd.to_datetime(dates).year)\n",
    "    evi_maxp  = vprm_inp + 'd0%s/VPRM_input_EVI_MAX_%s.nc'%(dom,pd.to_datetime(dates).year)\n",
    "    evip      = vprm_inp + 'd0%s/VPRM_input_EVI_%s.nc'%(dom,pd.to_datetime(dates).year)\n",
    "    lswi_minp = vprm_inp + 'd0%s/VPRM_input_LSWI_MIN_%s.nc'%(dom,pd.to_datetime(dates).year)\n",
    "    lswi_maxp = vprm_inp + 'd0%s/VPRM_input_LSWI_MAX_%s.nc'%(dom,pd.to_datetime(dates).year)\n",
    "    lswip     = vprm_inp + 'd0%s/VPRM_input_LSWI_%s.nc'%(dom,pd.to_datetime(dates).year)\n",
    "    vegfrap   = vprm_inp + 'd0%s/VPRM_input_VEG_FRA_%s.nc'%(dom,pd.to_datetime(dates).year)\n",
    "    \n",
    "    file_out = path('../output/vprm_input/')\n",
    "    print(datetime.datetime.now())\n",
    "    %run -i Join_vprm_input.py\n",
    "    print(datetime.datetime.now())  \n",
    "    \n",
    "    print('===================================')\n",
    "    print('FINISHED WITH DOMAIN %s'%(str(dom)))\n",
    "    print('===================================')    "
   ]
  },
  {
   "cell_type": "markdown",
   "metadata": {},
   "source": [
    "2. Preparing the data for the Anthropogenic emissions -> CH4, CO2 and CO"
   ]
  },
  {
   "cell_type": "code",
   "execution_count": 46,
   "metadata": {},
   "outputs": [
    {
     "name": "stdout",
     "output_type": "stream",
     "text": [
      "2023-12-14 16:40:21.537610\n",
      "STARTING WITH WETCHARTS AND EDGAR GHG emissions REGRID-PREPROCESSING\n",
      "generating netcdf file..\n",
      "DONE WITH GHG fire emissions REGRID-PREPROCESSING\n",
      "2023-12-14 16:47:26.365071\n",
      "===================================\n",
      "FINISHED WITH DOMAIN 1\n",
      "===================================\n",
      "2023-12-14 16:47:26.365609\n",
      "STARTING WITH WETCHARTS AND EDGAR GHG emissions REGRID-PREPROCESSING\n",
      "generating netcdf file..\n",
      "DONE WITH GHG fire emissions REGRID-PREPROCESSING\n",
      "2023-12-14 16:48:58.496734\n",
      "===================================\n",
      "FINISHED WITH DOMAIN 2\n",
      "===================================\n",
      "2023-12-14 16:48:58.497212\n",
      "STARTING WITH WETCHARTS AND EDGAR GHG emissions REGRID-PREPROCESSING\n",
      "generating netcdf file..\n",
      "DONE WITH GHG fire emissions REGRID-PREPROCESSING\n",
      "2023-12-14 16:50:23.090261\n",
      "===================================\n",
      "FINISHED WITH DOMAIN 3\n",
      "===================================\n",
      "2023-12-14 16:50:23.090756\n",
      "STARTING WITH WETCHARTS AND EDGAR GHG emissions REGRID-PREPROCESSING\n",
      "generating netcdf file..\n",
      "DONE WITH GHG fire emissions REGRID-PREPROCESSING\n",
      "2023-12-14 16:51:37.873068\n",
      "===================================\n",
      "FINISHED WITH DOMAIN 4\n",
      "===================================\n"
     ]
    }
   ],
   "source": [
    "edgar_path = '../input/anthr_ghg/data_total/'\n",
    "wchts_path = '../input/anthr_ghg/wetchart/'\n",
    "output_reg = path('../output/wrfchemis/')\n",
    "\n",
    "for i,j in enumerate(range(domains),start=1):\n",
    "    dom              = i\n",
    "    wrf_inp_p        = wrf_inps + 'wrfinput_d0'  + str(i)\n",
    "    wrf_geo_p        = wrf_inps + 'geo_em.d0' + str(i) + pos\n",
    "\n",
    "    var             = ['CO','CO2','CH4'] # remember to include the other options\n",
    "    mvar            = [28.01,44.01,16.043]\n",
    "    num_model       = ['2913','2923','2933','2914','2924','2934']    #### for wetcharts data\n",
    "    month           = int(pd.to_datetime(sim_time[0]).strftime('%m'))\n",
    "    lat             = 'lat'\n",
    "    lon             = 'lon'\n",
    "    regrid_method   = 'conservative'\n",
    "    \n",
    "    print(datetime.datetime.now())\n",
    "    %run -i prep_edgar.py\n",
    "    print(datetime.datetime.now())\n",
    "    \n",
    "    #!rm intermediate_cpool_regrid.nc\n",
    "    \n",
    "    print('===================================')\n",
    "    print('FINISHED WITH DOMAIN %s'%(str(dom)))\n",
    "    print('===================================')  "
   ]
  },
  {
   "cell_type": "markdown",
   "metadata": {},
   "source": [
    "3. Preparing the data for the Fires emissions -> CH4, CO2 and CO"
   ]
  },
  {
   "cell_type": "code",
   "execution_count": null,
   "metadata": {},
   "outputs": [],
   "source": [
    "fires_path = '../input/anthr_ghg/data_total/'\n",
    "output_reg = path('../output/wrffires/')\n",
    "for i,j in enumerate(range(domains),start=1):\n",
    "    dom              = i\n",
    "    wrf_inp_p        = wrf_inps + 'wrfinput_d0'  + str(i)\n",
    "    wrf_geo_p        = wrf_inps + 'geo_em.d0' + str(i) + pos\n",
    "\n",
    "    # Remember to check the year. The netcdf files for temp should be a.....\n",
    "    ### If changing year, remeber to change GFAS for each time \n",
    "    gfas_path       = '../../../DATA/sources/FIRES/global/2208_ghg.nc'\n",
    "    var             = ['co2fire','ch4fire','cofire'] # remember to include the other options\n",
    "    mvar             = [28.01,44.01,16.043]\n",
    "    lat             = 'latitude'\n",
    "    lon             = 'longitude'\n",
    "    regrid_method   = 'conservative'\n",
    "    \n",
    "    print(datetime.datetime.now())\n",
    "    %run -i pre_gfas.py\n",
    "    print(datetime.datetime.now())\n",
    "    \n",
    "    print('===================================')\n",
    "    print('FINISHED WITH DOMAIN %s'%(str(dom)))\n",
    "    print('===================================')    "
   ]
  },
  {
   "cell_type": "markdown",
   "metadata": {},
   "source": [
    "Preparando los datos del EDGAR y WETCHART para los cuatro dominios"
   ]
  },
  {
   "cell_type": "code",
   "execution_count": null,
   "metadata": {},
   "outputs": [],
   "source": [
    "for i,j in enumerate(range(domains),start=3):\n",
    "    dom              = i\n",
    "    wrf_inp          = w + pre  + str(i)\n",
    "    wrf_geo_p        = w_geo + pre2 + str(i) + pos\n",
    "\n",
    "    # Remember to check the year. The netcdf files for temp should be a.....\n",
    "    ### If changing year, remeber to change GFAS for each time \n",
    "    edgar_path      = '../../../DATA/sources/ANTHRO/global/EDGAR/'\n",
    "    wchts_path      = '../../../DATA/sources/ANTHRO/global/wetchart/'\n",
    "    var             = ['CO','CO2','CH4'] # remember to include the other options\n",
    "    mvar            = [28.01,44.01,16.043]\n",
    "    num_model       = ['2913','2923','2933','2914','2924','2934']    #### for wetcharts data\n",
    "    month           = int(pd.to_datetime(sim_time[0]).strftime('%m'))\n",
    "    lat             = 'lat'\n",
    "    lon             = 'lon'\n",
    "    edgar_out       = '../../../DATA/sources/ANTHRO/regrid/'\n",
    "    regrid_method   = 'conservative'\n",
    "    \n",
    "    print(datetime.datetime.now())\n",
    "    %run -i prep_edgar.py\n",
    "    print(datetime.datetime.now())\n",
    "    \n",
    "    #!rm intermediate_cpool_regrid.nc\n",
    "    \n",
    "    print('===================================')\n",
    "    print('FINISHED WITH DOMAIN %s'%(str(dom)))\n",
    "    print('===================================')  "
   ]
  },
  {
   "cell_type": "code",
   "execution_count": null,
   "metadata": {},
   "outputs": [],
   "source": [
    "for i,j in enumerate(range(domains),start=3):\n",
    "    dom              = i\n",
    "    wrf_inp          = w + pre  + str(i)\n",
    "    wrf_geo_p        = w_geo + pre2 + str(i) + pos"
   ]
  },
  {
   "cell_type": "code",
   "execution_count": null,
   "metadata": {},
   "outputs": [],
   "source": []
  }
 ],
 "metadata": {
  "kernelspec": {
   "display_name": "xesmf",
   "language": "python",
   "name": "python3"
  },
  "language_info": {
   "codemirror_mode": {
    "name": "ipython",
    "version": 3
   },
   "file_extension": ".py",
   "mimetype": "text/x-python",
   "name": "python",
   "nbconvert_exporter": "python",
   "pygments_lexer": "ipython3",
   "version": "3.9.13"
  },
  "orig_nbformat": 4
 },
 "nbformat": 4,
 "nbformat_minor": 2
}
